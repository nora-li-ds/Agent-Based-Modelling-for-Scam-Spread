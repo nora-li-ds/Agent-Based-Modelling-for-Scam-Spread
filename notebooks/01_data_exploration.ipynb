{
 "cells": [
  {
   "cell_type": "markdown",
   "id": "371000f5",
   "metadata": {},
   "source": [
    "# 01 data_exploration\n",
    "This notebook explores the raw dataset (financial_fraud_detection_dataset.csv) with: \n",
    "1. Setup & load data \n",
    "2. Time features (hour/day) \n",
    "3. Core stats & fraud rate \n",
    "4. Amount distributions \n",
    "5. Fraud vs non-fraud comparison \n",
    "6. Category breakdowns (type/channel/device/merchant) \n",
    "7. Temporal activity (by hour) \n",
    "8. Anomaly & velocity features \n",
    "9. Top accounts & sanity checks \n",
    "10. Sample & summary export"
   ]
  },
  {
   "cell_type": "markdown",
   "id": "8e2e31c0",
   "metadata": {},
   "source": [
    "###  1.Setup & load data "
   ]
  },
  {
   "cell_type": "code",
   "execution_count": 17,
   "id": "86583ba9",
   "metadata": {},
   "outputs": [
    {
     "name": "stdout",
     "output_type": "stream",
     "text": [
      "Raw shape: (5000000, 18) | Memory (MB): 3423.9\n"
     ]
    },
    {
     "data": {
      "text/html": [
       "<div>\n",
       "<style scoped>\n",
       "    .dataframe tbody tr th:only-of-type {\n",
       "        vertical-align: middle;\n",
       "    }\n",
       "\n",
       "    .dataframe tbody tr th {\n",
       "        vertical-align: top;\n",
       "    }\n",
       "\n",
       "    .dataframe thead th {\n",
       "        text-align: right;\n",
       "    }\n",
       "</style>\n",
       "<table border=\"1\" class=\"dataframe\">\n",
       "  <thead>\n",
       "    <tr style=\"text-align: right;\">\n",
       "      <th></th>\n",
       "      <th>transaction_id</th>\n",
       "      <th>timestamp</th>\n",
       "      <th>sender_account</th>\n",
       "      <th>receiver_account</th>\n",
       "      <th>amount</th>\n",
       "      <th>transaction_type</th>\n",
       "      <th>merchant_category</th>\n",
       "      <th>location</th>\n",
       "      <th>device_used</th>\n",
       "      <th>is_fraud</th>\n",
       "      <th>fraud_type</th>\n",
       "      <th>time_since_last_transaction</th>\n",
       "      <th>spending_deviation_score</th>\n",
       "      <th>velocity_score</th>\n",
       "      <th>geo_anomaly_score</th>\n",
       "      <th>payment_channel</th>\n",
       "      <th>ip_address</th>\n",
       "      <th>device_hash</th>\n",
       "    </tr>\n",
       "  </thead>\n",
       "  <tbody>\n",
       "    <tr>\n",
       "      <th>0</th>\n",
       "      <td>T100000</td>\n",
       "      <td>2023-08-22T09:22:43.516168</td>\n",
       "      <td>ACC877572</td>\n",
       "      <td>ACC388389</td>\n",
       "      <td>343.78</td>\n",
       "      <td>withdrawal</td>\n",
       "      <td>utilities</td>\n",
       "      <td>Tokyo</td>\n",
       "      <td>mobile</td>\n",
       "      <td>False</td>\n",
       "      <td>NaN</td>\n",
       "      <td>NaN</td>\n",
       "      <td>-0.21</td>\n",
       "      <td>3</td>\n",
       "      <td>0.22</td>\n",
       "      <td>card</td>\n",
       "      <td>13.101.214.112</td>\n",
       "      <td>D8536477</td>\n",
       "    </tr>\n",
       "    <tr>\n",
       "      <th>1</th>\n",
       "      <td>T100001</td>\n",
       "      <td>2023-08-04T01:58:02.606711</td>\n",
       "      <td>ACC895667</td>\n",
       "      <td>ACC944962</td>\n",
       "      <td>419.65</td>\n",
       "      <td>withdrawal</td>\n",
       "      <td>online</td>\n",
       "      <td>Toronto</td>\n",
       "      <td>atm</td>\n",
       "      <td>False</td>\n",
       "      <td>NaN</td>\n",
       "      <td>NaN</td>\n",
       "      <td>-0.14</td>\n",
       "      <td>7</td>\n",
       "      <td>0.96</td>\n",
       "      <td>ACH</td>\n",
       "      <td>172.52.47.194</td>\n",
       "      <td>D2622631</td>\n",
       "    </tr>\n",
       "    <tr>\n",
       "      <th>2</th>\n",
       "      <td>T100002</td>\n",
       "      <td>2023-05-12T11:39:33.742963</td>\n",
       "      <td>ACC733052</td>\n",
       "      <td>ACC377370</td>\n",
       "      <td>2773.86</td>\n",
       "      <td>deposit</td>\n",
       "      <td>other</td>\n",
       "      <td>London</td>\n",
       "      <td>pos</td>\n",
       "      <td>False</td>\n",
       "      <td>NaN</td>\n",
       "      <td>NaN</td>\n",
       "      <td>-1.78</td>\n",
       "      <td>20</td>\n",
       "      <td>0.89</td>\n",
       "      <td>card</td>\n",
       "      <td>185.98.35.23</td>\n",
       "      <td>D4823498</td>\n",
       "    </tr>\n",
       "  </tbody>\n",
       "</table>\n",
       "</div>"
      ],
      "text/plain": [
       "  transaction_id                   timestamp sender_account receiver_account  \\\n",
       "0        T100000  2023-08-22T09:22:43.516168      ACC877572        ACC388389   \n",
       "1        T100001  2023-08-04T01:58:02.606711      ACC895667        ACC944962   \n",
       "2        T100002  2023-05-12T11:39:33.742963      ACC733052        ACC377370   \n",
       "\n",
       "    amount transaction_type merchant_category location device_used  is_fraud  \\\n",
       "0   343.78       withdrawal         utilities    Tokyo      mobile     False   \n",
       "1   419.65       withdrawal            online  Toronto         atm     False   \n",
       "2  2773.86          deposit             other   London         pos     False   \n",
       "\n",
       "  fraud_type  time_since_last_transaction  spending_deviation_score  \\\n",
       "0        NaN                          NaN                     -0.21   \n",
       "1        NaN                          NaN                     -0.14   \n",
       "2        NaN                          NaN                     -1.78   \n",
       "\n",
       "   velocity_score  geo_anomaly_score payment_channel      ip_address  \\\n",
       "0               3               0.22            card  13.101.214.112   \n",
       "1               7               0.96             ACH   172.52.47.194   \n",
       "2              20               0.89            card    185.98.35.23   \n",
       "\n",
       "  device_hash  \n",
       "0    D8536477  \n",
       "1    D2622631  \n",
       "2    D4823498  "
      ]
     },
     "execution_count": 17,
     "metadata": {},
     "output_type": "execute_result"
    }
   ],
   "source": [
    "# 1. Setup & paths\n",
    "import os\n",
    "from pathlib import Path\n",
    "import numpy as np\n",
    "import pandas as pd\n",
    "import matplotlib.pyplot as plt\n",
    "\n",
    "# Paths\n",
    "RAW_PATH = Path(\"../data/raw/financial_fraud_detection_dataset.csv\")\n",
    "PROC_DIR = Path(\"../data/processed\")\n",
    "FIG_DIR  = Path(\"../reports/figures\")\n",
    "\n",
    "PROC_DIR.mkdir(parents=True, exist_ok=True)\n",
    "FIG_DIR.mkdir(parents=True, exist_ok=True)\n",
    "\n",
    "# Helper: memory usage in MB\n",
    "def memory_mb(df): \n",
    "    return df.memory_usage(deep=True).sum() / 1024**2\n",
    "\n",
    "# 1.2. Load raw data\n",
    "assert RAW_PATH.exists(), f\"Raw CSV not found at {RAW_PATH}\"\n",
    "df_raw = pd.read_csv(RAW_PATH, low_memory=False)\n",
    "print(\"Raw shape:\", df_raw.shape, \"| Memory (MB):\", f\"{memory_mb(df_raw):.1f}\")\n",
    "df_raw.head(3)\n"
   ]
  },
  {
   "cell_type": "code",
   "execution_count": 18,
   "id": "8a0e293c",
   "metadata": {},
   "outputs": [
    {
     "name": "stdout",
     "output_type": "stream",
     "text": [
      "Standardized columns (first 12): ['transaction_id', 'timestamp', 'sender', 'receiver', 'amount', 'type', 'merchant_category', 'location', 'device_used', 'is_fraud', 'fraud_type', 'time_since_last_transaction']\n",
      "Category columns found: ['type', 'payment_channel', 'device_used', 'merchant_category']\n"
     ]
    }
   ],
   "source": [
    "# 1.3 Manually set column names we care about\n",
    "SENDER_COL   = \"sender_account\"\n",
    "RECEIVER_COL = \"receiver_account\"\n",
    "AMOUNT_COL   = \"amount\"\n",
    "FRAUD_COL    = \"is_fraud\"\n",
    "TS_COL       = \"timestamp\"\n",
    "\n",
    "TYPE_COL     = \"transaction_type\"\n",
    "CHAN_COL     = \"payment_channel\"\n",
    "DEVICE_COL   = \"device_used\"\n",
    "MCHT_COL     = \"merchant_category\"\n",
    "\n",
    "# Copy & rename for consistency\n",
    "df_std = df_raw.copy()\n",
    "\n",
    "rename_map = {\n",
    "    SENDER_COL: \"sender\",\n",
    "    RECEIVER_COL: \"receiver\",\n",
    "    AMOUNT_COL: \"amount\",\n",
    "    FRAUD_COL: \"is_fraud\",\n",
    "    TS_COL: \"timestamp\",\n",
    "    TYPE_COL: \"type\",\n",
    "    CHAN_COL: \"payment_channel\",\n",
    "    DEVICE_COL: \"device_used\",\n",
    "    MCHT_COL: \"merchant_category\",\n",
    "}\n",
    "\n",
    "# Only rename columns that actually exist\n",
    "rename_map = {k: v for k, v in rename_map.items() if k in df_std.columns}\n",
    "df_std.rename(columns=rename_map, inplace=True)\n",
    "\n",
    "# For later loops\n",
    "CATEG_COLS = [c for c in [\"type\", \"payment_channel\", \"device_used\", \"merchant_category\"] if c in df_std.columns]\n",
    "\n",
    "print(\"Standardized columns (first 12):\", list(df_std.columns)[:12])\n",
    "print(\"Category columns found:\", CATEG_COLS)\n"
   ]
  },
  {
   "cell_type": "markdown",
   "id": "7b34bff7",
   "metadata": {},
   "source": [
    "### – Why standardize column names?\n",
    "\n",
    "Different versions of the dataset sometimes use different names  \n",
    "(e.g. `sender_account` vs. `nameOrig`).  \n",
    "To make my code easier to run later, I rename the columns into a consistent set  \n",
    "like `sender`, `receiver`, `amount`, `is_fraud`.  \n",
    "\n",
    "This does not change the original data, it just gives me a cleaner copy (`df_std`)  \n",
    "so I don’t have to worry about column name mismatches in the rest of the notebook.\n"
   ]
  },
  {
   "cell_type": "markdown",
   "id": "47b3dc81",
   "metadata": {},
   "source": [
    "### Step 2 – Time features (hour/day)"
   ]
  },
  {
   "cell_type": "code",
   "execution_count": 9,
   "id": "869c2921",
   "metadata": {},
   "outputs": [
    {
     "data": {
      "text/html": [
       "<div>\n",
       "<style scoped>\n",
       "    .dataframe tbody tr th:only-of-type {\n",
       "        vertical-align: middle;\n",
       "    }\n",
       "\n",
       "    .dataframe tbody tr th {\n",
       "        vertical-align: top;\n",
       "    }\n",
       "\n",
       "    .dataframe thead th {\n",
       "        text-align: right;\n",
       "    }\n",
       "</style>\n",
       "<table border=\"1\" class=\"dataframe\">\n",
       "  <thead>\n",
       "    <tr style=\"text-align: right;\">\n",
       "      <th></th>\n",
       "      <th>hour_of_day</th>\n",
       "      <th>day_of_week</th>\n",
       "    </tr>\n",
       "  </thead>\n",
       "  <tbody>\n",
       "    <tr>\n",
       "      <th>0</th>\n",
       "      <td>9.0</td>\n",
       "      <td>1.0</td>\n",
       "    </tr>\n",
       "    <tr>\n",
       "      <th>1</th>\n",
       "      <td>1.0</td>\n",
       "      <td>4.0</td>\n",
       "    </tr>\n",
       "    <tr>\n",
       "      <th>2</th>\n",
       "      <td>11.0</td>\n",
       "      <td>4.0</td>\n",
       "    </tr>\n",
       "    <tr>\n",
       "      <th>3</th>\n",
       "      <td>6.0</td>\n",
       "      <td>1.0</td>\n",
       "    </tr>\n",
       "    <tr>\n",
       "      <th>4</th>\n",
       "      <td>8.0</td>\n",
       "      <td>6.0</td>\n",
       "    </tr>\n",
       "  </tbody>\n",
       "</table>\n",
       "</div>"
      ],
      "text/plain": [
       "   hour_of_day  day_of_week\n",
       "0          9.0          1.0\n",
       "1          1.0          4.0\n",
       "2         11.0          4.0\n",
       "3          6.0          1.0\n",
       "4          8.0          6.0"
      ]
     },
     "execution_count": 9,
     "metadata": {},
     "output_type": "execute_result"
    }
   ],
   "source": [
    "if \"timestamp\" in df_std.columns:\n",
    "    ts = pd.to_datetime(df_std[\"timestamp\"], errors=\"coerce\")\n",
    "    df_std[\"hour\"] = ts.dt.hour\n",
    "    df_std[\"day\"] = ts.dt.day\n",
    "elif \"step\" in df_std.columns:\n",
    "    step_i = pd.to_numeric(df_std[\"step\"], errors=\"coerce\").fillna(0).astype(int)\n",
    "    df_std[\"hour\"] = (step_i % 24).astype(int)\n",
    "    df_std[\"day\"] = (step_i // 24).astype(int)\n",
    "else:\n",
    "    df_std[\"hour\"] = np.nan\n",
    "    df_std[\"day\"] = np.nan\n",
    "  \n",
    "df_std[[\"hour_of_day\",\"day_of_week\"]].head()\n",
    "\n"
   ]
  },
  {
   "cell_type": "markdown",
   "id": "966f86e3",
   "metadata": {},
   "source": [
    "\n",
    "\n",
    "We created two new columns from the raw timestamp:\n",
    "\n",
    "- **hour_of_day (0–23)** → which hour in the day the transaction happened  \n",
    "- **day_of_week (0=Monday … 6=Sunday)** → which weekday it belongs to  \n",
    "\n",
    "Why is this useful?  \n",
    "Fraud and scam activities are often not random in time.  \n",
    "For example, fraudsters may prefer:\n",
    "- late-night hours (when fewer staff monitor systems), or  \n",
    "- weekends (when customers are less likely to check accounts).  \n",
    "\n",
    "By extracting these simple features, we can later plot fraud vs non-fraud transactions by hour/day.  \n",
    "This helps us spot temporal patterns and could be used as additional predictors in machine learning or ABM simulations.  \n"
   ]
  },
  {
   "cell_type": "code",
   "execution_count": null,
   "id": "c8d9be99",
   "metadata": {},
   "outputs": [],
   "source": []
  },
  {
   "cell_type": "markdown",
   "id": "90cbd3d8",
   "metadata": {},
   "source": [
    "### Step 3 – Core stats & fraud rate\n",
    "\n",
    "- Rows: 5M transactions, 22 columns  \n",
    "- Amounts: median ≈ 139, mean ≈ 359, max ≈ 3520 → distribution is skewed  \n",
    "- Fraud rate: ~3.6% (synthetic dataset, higher than real-world data)  \n",
    "\n",
    "This gives us a quick big-picture view before deeper exploration.  \n"
   ]
  },
  {
   "cell_type": "code",
   "execution_count": 11,
   "id": "25bc9f8e",
   "metadata": {},
   "outputs": [
    {
     "data": {
      "text/plain": [
       "n_rows           5.000000e+06\n",
       "n_cols           2.200000e+01\n",
       "n_senders                 NaN\n",
       "n_receivers               NaN\n",
       "amount_min       1.000000e-02\n",
       "amount_median    1.386700e+02\n",
       "amount_mean      3.589343e+02\n",
       "amount_max       3.520570e+03\n",
       "fraud_rate       3.591060e-02\n",
       "dtype: float64"
      ]
     },
     "execution_count": 11,
     "metadata": {},
     "output_type": "execute_result"
    }
   ],
   "source": [
    "# Step 3 – Core stats & fraud rate\n",
    "\n",
    "stats = {\n",
    "    \"n_rows\": len(df_std),\n",
    "    \"n_cols\": df_std.shape[1],\n",
    "    \"n_senders\": df_std[SENDER_COL].nunique() if SENDER_COL in df_std else None,\n",
    "    \"n_receivers\": df_std[RECEIVER_COL].nunique() if RECEIVER_COL in df_std else None,\n",
    "    \"amount_min\": float(df_std[AMOUNT_COL].min()),\n",
    "    \"amount_median\": float(df_std[AMOUNT_COL].median()),\n",
    "    \"amount_mean\": float(df_std[AMOUNT_COL].mean()),\n",
    "    \"amount_max\": float(df_std[AMOUNT_COL].max()),\n",
    "}\n",
    "\n",
    "# Fraud rate (if available)\n",
    "if FRAUD_COL is not None:\n",
    "    stats[\"fraud_rate\"] = float(pd.to_numeric(df_std[FRAUD_COL], errors=\"coerce\").mean())\n",
    "\n",
    "pd.Series(stats)\n"
   ]
  },
  {
   "cell_type": "markdown",
   "id": "6e7b1936",
   "metadata": {},
   "source": [
    "### Step 4 – Amount distributions\n",
    "\n",
    "We plot the distribution of transaction amounts to see scale and skew.  \n",
    "Fraud vs non-fraud is shown separately: this helps check if fraudsters prefer certain ranges (e.g. mid-range or larger transfers).  \n"
   ]
  },
  {
   "cell_type": "code",
   "execution_count": 12,
   "id": "524b9c52",
   "metadata": {},
   "outputs": [
    {
     "data": {
      "image/png": "[encoded data removed]",
      "text/plain": [
       "<Figure size 800x400 with 1 Axes>"
      ]
     },
     "metadata": {},
     "output_type": "display_data"
    },
    {
     "data": {
      "image/png": "[encoded data removed]",
      "text/plain": [
       "<Figure size 800x400 with 1 Axes>"
      ]
     },
     "metadata": {},
     "output_type": "display_data"
    }
   ],
   "source": [
    "# Step 4 – Amount distributions\n",
    "\n",
    "plt.figure(figsize=(8,4))\n",
    "df_std[AMOUNT_COL].plot(kind=\"hist\", bins=100, alpha=0.7, color=\"steelblue\")\n",
    "plt.xlabel(\"Transaction amount\")\n",
    "plt.ylabel(\"Frequency\")\n",
    "plt.title(\"Distribution of transaction amounts (all)\")\n",
    "plt.show()\n",
    "\n",
    "# Fraud vs non-fraud comparison (if label available)\n",
    "if FRAUD_COL is not None:\n",
    "    plt.figure(figsize=(8,4))\n",
    "    df_std[df_std[FRAUD_COL]==0][AMOUNT_COL].plot(kind=\"hist\", bins=100, alpha=0.6, label=\"Non-fraud\")\n",
    "    df_std[df_std[FRAUD_COL]==1][AMOUNT_COL].plot(kind=\"hist\", bins=100, alpha=0.6, label=\"Fraud\")\n",
    "    plt.xlabel(\"Transaction amount\")\n",
    "    plt.ylabel(\"Frequency\")\n",
    "    plt.title(\"Transaction amounts: fraud vs non-fraud\")\n",
    "    plt.legend()\n",
    "    plt.show()\n"
   ]
  },
  {
   "cell_type": "markdown",
   "id": "57999fcc",
   "metadata": {},
   "source": [
    "\n",
    "\n",
    "- Most transactions are very small, with a long tail up to a few thousand.  \n",
    "- Fraudulent transactions (orange) are also concentrated at the **small-amount range**, instead of at very large amounts.  \n",
    "- This suggests that attackers may use **many small transfers** (e.g., smurfing) to avoid detection, rather than a few obvious big ones.  \n",
    "- Research value: amount alone is not enough to flag fraud, but observing this pattern motivates combining amount with **frequency, network connections, and timing** for better detection.  \n"
   ]
  },
  {
   "cell_type": "code",
   "execution_count": 15,
   "id": "1b2483eb",
   "metadata": {},
   "outputs": [
    {
     "name": "stdout",
     "output_type": "stream",
     "text": [
      "Fraud amount stats:\n",
      " count    179553.000000\n",
      "mean        358.528199\n",
      "std         469.531257\n",
      "min           0.010000\n",
      "25%          26.480000\n",
      "50%         137.880000\n",
      "75%         501.720000\n",
      "max        3128.140000\n",
      "Name: amount, dtype: float64\n",
      "\n",
      "Non-fraud amount stats:\n",
      " count    4.820447e+06\n",
      "mean     3.589494e+02\n",
      "std      4.699483e+02\n",
      "min      1.000000e-02\n",
      "25%      2.657000e+01\n",
      "50%      1.387100e+02\n",
      "75%      5.039600e+02\n",
      "max      3.520570e+03\n",
      "Name: amount, dtype: float64\n"
     ]
    },
    {
     "data": {
      "image/png": "[encoded data removed]",
      "text/plain": [
       "<Figure size 640x480 with 1 Axes>"
      ]
     },
     "metadata": {},
     "output_type": "display_data"
    }
   ],
   "source": [
    "# 5. Fraud vs Non-Fraud comparison\n",
    "\n",
    "if FRAUD_COL is not None:\n",
    "    # simple describe\n",
    "    fraud_stats = df_std[df_std[FRAUD_COL] == 1][AMOUNT_COL].describe()\n",
    "    nonfraud_stats = df_std[df_std[FRAUD_COL] == 0][AMOUNT_COL].describe()\n",
    "    print(\"Fraud amount stats:\\n\", fraud_stats)\n",
    "    print(\"\\nNon-fraud amount stats:\\n\", nonfraud_stats)\n",
    "\n",
    "    # quick boxplot\n",
    "    df_std.boxplot(column=AMOUNT_COL, by=FRAUD_COL, showfliers=False)\n",
    "    plt.title(\"Fraud vs Non-Fraud: Amount Distribution\")\n",
    "    plt.suptitle(\"\")\n",
    "    plt.xlabel(\"Is Fraud\")\n",
    "    plt.ylabel(\"Transaction Amount\")\n",
    "    plt.show()\n"
   ]
  },
  {
   "cell_type": "markdown",
   "id": "0532c3d6",
   "metadata": {},
   "source": [
    "Transaction amounts alone do not provide strong separation between fraud and non-fraud. This suggests the need to incorporate additional features such as frequency, network structure, or device/channel information."
   ]
  },
  {
   "cell_type": "code",
   "execution_count": 16,
   "id": "9ea7e0f8",
   "metadata": {},
   "outputs": [
    {
     "ename": "NameError",
     "evalue": "name 'TYPE_COL' is not defined",
     "output_type": "error",
     "traceback": [
      "\u001b[31m---------------------------------------------------------------------------\u001b[39m",
      "\u001b[31mNameError\u001b[39m                                 Traceback (most recent call last)",
      "\u001b[36mCell\u001b[39m\u001b[36m \u001b[39m\u001b[32mIn[16]\u001b[39m\u001b[32m, line 3\u001b[39m\n\u001b[32m      1\u001b[39m \u001b[38;5;66;03m# 6. Category breakdowns (type, channel, device, merchant)\u001b[39;00m\n\u001b[32m----> \u001b[39m\u001b[32m3\u001b[39m \u001b[38;5;28;01mfor\u001b[39;00m col \u001b[38;5;129;01min\u001b[39;00m [\u001b[43mTYPE_COL\u001b[49m, CHAN_COL, DEVICE_COL, MCHT_COL]:\n\u001b[32m      4\u001b[39m     \u001b[38;5;28;01mif\u001b[39;00m col \u001b[38;5;129;01mis\u001b[39;00m \u001b[38;5;129;01mnot\u001b[39;00m \u001b[38;5;28;01mNone\u001b[39;00m \u001b[38;5;129;01mand\u001b[39;00m col \u001b[38;5;129;01min\u001b[39;00m df_std:\n\u001b[32m      5\u001b[39m         counts = df_std[col].value_counts(normalize=\u001b[38;5;28;01mTrue\u001b[39;00m)[:\u001b[32m10\u001b[39m]\n",
      "\u001b[31mNameError\u001b[39m: name 'TYPE_COL' is not defined"
     ]
    }
   ],
   "source": [
    "# 6. Category breakdowns (type, channel, device, merchant)\n",
    "\n",
    "for col in [TYPE_COL, CHAN_COL, DEVICE_COL, MCHT_COL]:\n",
    "    if col is not None and col in df_std:\n",
    "        counts = df_std[col].value_counts(normalize=True)[:10]\n",
    "        print(f\"\\nTop categories for {col}:\\n\", counts)\n",
    "        counts.plot(kind=\"bar\", figsize=(6,3))\n",
    "        plt.title(f\"Distribution of {col}\")\n",
    "        plt.show()\n"
   ]
  },
  {
   "cell_type": "code",
   "execution_count": null,
   "id": "e5d7b35e",
   "metadata": {},
   "outputs": [],
   "source": []
  }
 ],
 "metadata": {
  "kernelspec": {
   "display_name": "ABM",
   "language": "python",
   "name": "python3"
  },
  "language_info": {
   "codemirror_mode": {
    "name": "ipython",
    "version": 3
   },
   "file_extension": ".py",
   "mimetype": "text/x-python",
   "name": "python",
   "nbconvert_exporter": "python",
   "pygments_lexer": "ipython3",
   "version": "3.13.2"
  }
 },
 "nbformat": 4,
 "nbformat_minor": 5
}
